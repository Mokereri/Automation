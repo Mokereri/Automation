{
 "cells": [
  {
   "cell_type": "code",
   "execution_count": 2,
   "metadata": {},
   "outputs": [
    {
     "name": "stdout",
     "output_type": "stream",
     "text": [
      "Name: google-ads\n",
      "Version: 24.1.0\n",
      "Summary: Client library for the Google Ads API\n",
      "Home-page: https://github.com/googleads/google-ads-python\n",
      "Author: Google LLC\n",
      "Author-email: googleapis-packages@google.com\n",
      "License: Apache 2.0\n",
      "Location: C:\\Users\\user\\AppData\\Local\\Packages\\PythonSoftwareFoundation.Python.3.11_qbz5n2kfra8p0\\LocalCache\\local-packages\\Python311\\site-packages\n",
      "Requires: google-api-core, google-auth-oauthlib, googleapis-common-protos, grpcio, grpcio-status, proto-plus, protobuf, PyYAML\n",
      "Required-by: \n",
      "Note: you may need to restart the kernel to use updated packages.\n"
     ]
    }
   ],
   "source": [
    "pip show google-ads"
   ]
  },
  {
   "cell_type": "code",
   "execution_count": 27,
   "metadata": {},
   "outputs": [],
   "source": [
    "import mysql.connector\n",
    "from mysql.connector import Error\n",
    "import schedule\n",
    "import time\n",
    "import requests\n",
    "from google.ads.googleads.client import GoogleAdsClient\n",
    "from facebook_business.api import FacebookAdsApi\n",
    "from facebook_business.adobjects.adaccount import AdAccount"
   ]
  },
  {
   "cell_type": "code",
   "execution_count": 29,
   "metadata": {},
   "outputs": [
    {
     "name": "stdout",
     "output_type": "stream",
     "text": [
      "MySQL Database connection successful\n"
     ]
    }
   ],
   "source": [
    "def create_server_connection(host_name, user_name, user_password, db_name):\n",
    "    connection = None\n",
    "    try:\n",
    "        connection = mysql.connector.connect(\n",
    "            host=host_name,\n",
    "            user=user_name,\n",
    "            password=user_password,\n",
    "            database=db_name\n",
    "        )\n",
    "        print(\"MySQL Database connection successful\")\n",
    "    except Error as err:\n",
    "        print(f\"Error: '{err}'\")\n",
    "    return connection\n",
    "\n",
    "host_name = \"host_name\"\n",
    "user_name = \"Mokereri\"\n",
    "user_password = \"Nerd***\"\n",
    "db_name = \"ADVERT_DB\"\n",
    "\n",
    "connection = create_server_connection(host_name, user_name, user_password, db_name)"
   ]
  },
  {
   "cell_type": "code",
   "execution_count": 30,
   "metadata": {},
   "outputs": [
    {
     "name": "stdout",
     "output_type": "stream",
     "text": [
      "Query successful\n",
      "Query successful\n",
      "Query successful\n",
      "Query successful\n"
     ]
    }
   ],
   "source": [
    "# Create the schema within ADVERT_DB\n",
    "create_schema_query = \"CREATE SCHEMA IF NOT EXISTS Public_schema;\"\n",
    "execute_query(connection, create_schema_query)\n",
    "\n",
    "# Create tables within the Public_schema\n",
    "create_facebook_ads_table = \"\"\"\n",
    "CREATE TABLE IF NOT EXISTS Public_schema.facebook_ads (\n",
    "    ad_id VARCHAR(255) PRIMARY KEY,\n",
    "    campaign_name VARCHAR(255),\n",
    "    adset_name VARCHAR(255),\n",
    "    ad_name VARCHAR(255),\n",
    "    impressions INT,\n",
    "    clicks INT,\n",
    "    spend DECIMAL(10, 2),\n",
    "    date DATE\n",
    ");\n",
    "\"\"\"\n",
    "\n",
    "create_google_ads_table = \"\"\"\n",
    "CREATE TABLE IF NOT EXISTS Public_schema.google_ads (\n",
    "    ad_id VARCHAR(255) PRIMARY KEY,\n",
    "    campaign_name VARCHAR(255),\n",
    "    adgroup_name VARCHAR(255),\n",
    "    ad_name VARCHAR(255),\n",
    "    impressions INT,\n",
    "    clicks INT,\n",
    "    spend DECIMAL(10, 2),\n",
    "    date DATE\n",
    ");\n",
    "\"\"\"\n",
    "\n",
    "create_orders_table = \"\"\"\n",
    "CREATE TABLE IF NOT EXISTS Public_schema.orders (\n",
    "    order_id VARCHAR(255) PRIMARY KEY,\n",
    "    order_date DATE,\n",
    "    customer_id VARCHAR(255),\n",
    "    product_id VARCHAR(255),\n",
    "    quantity INT,\n",
    "    total_amount DECIMAL(10, 2),\n",
    "    source VARCHAR(255)\n",
    ");\n",
    "\"\"\"\n",
    "\n",
    "# Execute the table creation queries within Public_schema\n",
    "execute_query(connection, create_facebook_ads_table)\n",
    "execute_query(connection, create_google_ads_table)\n",
    "execute_query(connection, create_orders_table)"
   ]
  },
  {
   "cell_type": "code",
   "execution_count": null,
   "metadata": {},
   "outputs": [],
   "source": [
    "# Extract data from Facebook Ads\n",
    "def fetch_facebook_ads():\n",
    "    access_token = 'your_facebook_access_token'\n",
    "    ad_account_id = 'your_ad_account_id'\n",
    "    FacebookAdsApi.init(access_token=access_token)\n",
    "    account = AdAccount(f'act_{ad_account_id}')\n",
    "    fields = ['ad_id', 'campaign_name', 'adset_name', 'ad_name', 'impressions', 'clicks', 'spend', 'date_start']\n",
    "    params = {\n",
    "        'time_range': {'since': '2023-01-01', 'until': '2024-12-31'},\n",
    "        'level': 'ad'\n",
    "    }\n",
    "    ads = account.get_insights(fields=fields, params=params)\n",
    "    for ad in ads:\n",
    "        cursor.execute(\"\"\"\n",
    "            INSERT INTO facebook_ads (ad_id, campaign_name, adset_name, ad_name, impressions, clicks, spend, date)\n",
    "            VALUES (%s, %s, %s, %s, %s, %s, %s, %s)\n",
    "        \"\"\", (ad['ad_id'], ad['campaign_name'], ad['adset_name'], ad['ad_name'], ad['impressions'], ad['clicks'], ad['spend'], ad['date_start']))\n",
    "\n",
    "# Extract data from Google Ads\n",
    "def fetch_google_ads():\n",
    "    client = GoogleAdsClient.load_from_storage('path/to/google-ads.yaml')\n",
    "    query = \"\"\"\n",
    "        SELECT ad_group_ad.ad.id, campaign.name, ad_group.name, ad_group_ad.ad.name, metrics.impressions, metrics.clicks, metrics.cost_micros, segments.date\n",
    "        FROM ad_group_ad\n",
    "        WHERE segments.date DURING LAST_30_DAYS\n",
    "    \"\"\"\n",
    "    response = client.service.google_ads.search(customer_id='your_google_ads_customer_id', query=query)\n",
    "    for row in response:\n",
    "        ad_id = row.ad_group_ad.ad.id\n",
    "        campaign_name = row.campaign.name\n",
    "        adgroup_name = row.ad_group.name\n",
    "        ad_name = row.ad_group_ad.ad.name\n",
    "        impressions = row.metrics.impressions\n",
    "        clicks = row.metrics.clicks\n",
    "        spend = row.metrics.cost_micros / 1e6  # Convert micros to currency\n",
    "        date = row.segments.date\n",
    "        cursor.execute(\"\"\"\n",
    "            INSERT INTO google_ads (ad_id, campaign_name, adgroup_name, ad_name, impressions, clicks, spend, date)\n",
    "            VALUES (%s, %s, %s, %s, %s, %s, %s, %s)\n",
    "        \"\"\", (ad_id, campaign_name, adgroup_name, ad_name, impressions, clicks, spend, date))\n",
    "\n",
    "# Extract data from Orders\n",
    "def fetch_orders():\n",
    "    # If orders are already stored in the database, skip. If from API, similar process as above.\n",
    "    pass\n",
    "\n",
    "def update():\n",
    "    connection = create_server_connection(host_name, user_name, user_password, db_name)\n",
    "    cursor = connection.cursor()\n",
    "    fetch_facebook_ads()\n",
    "    fetch_google_ads()\n",
    "    fetch_orders()\n",
    "    connection.commit()\n",
    "    connection.close()\n",
    "\n",
    "host_name = \"127.0.0.1\"\n",
    "user_name = \"Mokereri\"\n",
    "user_password = \"Kay@2030\"\n",
    "db_name = \"ADVERT_DB\"\n",
    "\n",
    "schedule.every().day.at(\"00:00\").do(update)\n",
    "\n",
    "while True:\n",
    "    schedule.run_pending()\n",
    "    time.sleep(1)"
   ]
  },
  {
   "cell_type": "code",
   "execution_count": 26,
   "metadata": {},
   "outputs": [
    {
     "name": "stdout",
     "output_type": "stream",
     "text": [
      "MySQL connection is closed\n"
     ]
    }
   ],
   "source": [
    "# Create views\n",
    "create_total_ad_spend_view = \"\"\"\n",
    "CREATE OR REPLACE VIEW total_ad_spend AS\n",
    "SELECT\n",
    "    SUM(spend) AS total_spend,\n",
    "    'Facebook' AS platform\n",
    "FROM facebook_ads\n",
    "UNION ALL\n",
    "SELECT\n",
    "    SUM(spend) AS total_spend,\n",
    "    'Google' AS platform\n",
    "FROM google_ads;\n",
    "\"\"\"\n",
    "\n",
    "create_cost_per_order_view = \"\"\"\n",
    "CREATE OR REPLACE VIEW cost_per_order AS\n",
    "SELECT\n",
    "    o.source,\n",
    "    SUM(o.total_amount) AS total_sales,\n",
    "    COUNT(o.order_id) AS total_orders,\n",
    "    SUM(a.spend) AS total_ad_spend,\n",
    "    (SUM(a.spend) / COUNT(o.order_id)) AS cost_per_order\n",
    "FROM orders o\n",
    "JOIN (\n",
    "    SELECT ad_id, spend, 'Facebook' AS source FROM facebook_ads\n",
    "    UNION ALL\n",
    "    SELECT ad_id, spend, 'Google' AS source FROM google_ads\n",
    ") a ON o.source = a.source\n",
    "GROUP BY o.source;\n",
    "\"\"\"\n",
    "\n",
    "# Commit the changes and close the connection\n",
    "if connection.is_connected():\n",
    "    connection.commit() \n",
    "    connection.close()\n",
    "    print(\"MySQL connection is closed\")\n"
   ]
  }
 ],
 "metadata": {
  "kernelspec": {
   "display_name": "Python 3",
   "language": "python",
   "name": "python3"
  },
  "language_info": {
   "codemirror_mode": {
    "name": "ipython",
    "version": 3
   },
   "file_extension": ".py",
   "mimetype": "text/x-python",
   "name": "python",
   "nbconvert_exporter": "python",
   "pygments_lexer": "ipython3",
   "version": "3.11.6"
  }
 },
 "nbformat": 4,
 "nbformat_minor": 2
}
