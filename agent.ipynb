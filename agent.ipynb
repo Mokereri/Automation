{
 "cells": [
  {
   "cell_type": "code",
   "execution_count": 6,
   "metadata": {},
   "outputs": [],
   "source": [
    "import pandas as pd \n",
    "import datetime\n",
    "import requests"
   ]
  },
  {
   "cell_type": "code",
   "execution_count": 1,
   "metadata": {},
   "outputs": [
    {
     "name": "stdout",
     "output_type": "stream",
     "text": [
      "Low Performance Pages:\n",
      "  page_url  bounce_rate\n",
      "3   page_4          0.8\n",
      "\n",
      "Feedback Analysis:\n",
      "user_feedback\n",
      "Great content    1\n",
      "Too long         1\n",
      "Boring           1\n",
      "Not helpful      1\n",
      "Name: count, dtype: int64\n"
     ]
    }
   ],
   "source": [
    "import pandas as pd\n",
    "\n",
    "# Example dataset\n",
    "data = {\n",
    "    'page_url': ['page_1', 'page_2', 'page_3', 'page_4'],\n",
    "    'time_spent': [120, 45, 30, 10],  # Time in seconds\n",
    "    'clicks': [15, 2, 5, 0],\n",
    "    'bounce_rate': [0.5, 0.2, 0.3, 0.8],  # Bounce rate from 0 to 1 (1 = 100%)\n",
    "    'user_feedback': ['Great content', 'Too long', 'Boring', 'Not helpful'],\n",
    "}\n",
    "\n",
    "df = pd.DataFrame(data)\n",
    "\n",
    "# Basic analysis\n",
    "df['average_time'] = df['time_spent'] / len(df)  # Time spent per page\n",
    "low_performance_pages = df[df['bounce_rate'] > 0.7]  # High bounce rate\n",
    "feedback_analysis = df['user_feedback'].value_counts()  # Simple feedback analysis\n",
    "\n",
    "print(\"Low Performance Pages:\")\n",
    "print(low_performance_pages[['page_url', 'bounce_rate']])\n",
    "\n",
    "print(\"\\nFeedback Analysis:\")\n",
    "print(feedback_analysis)\n"
   ]
  },
  {
   "cell_type": "code",
   "execution_count": 2,
   "metadata": {},
   "outputs": [
    {
     "name": "stdout",
     "output_type": "stream",
     "text": [
      "\n",
      "Hi Content Team,\n",
      "\n",
      "Here are some insights from the latest user behavior analysis:\n",
      "\n",
      "1. **Pages with High Bounce Rates**:\n",
      "   - `page_4` has a high bounce rate (0.8). Consider revising the content or improving the user flow to keep visitors engaged.\n",
      "\n",
      "2. **User Feedback**:\n",
      "   - Several users found `page_3` \"boring,\" while `page_1` received positive feedback: \"Great content.\"\n",
      "\n",
      "Please review the content on the mentioned pages and optimize accordingly.\n",
      "\n"
     ]
    }
   ],
   "source": [
    "feedback_message = \"\"\"\n",
    "Hi Content Team,\n",
    "\n",
    "Here are some insights from the latest user behavior analysis:\n",
    "\n",
    "1. **Pages with High Bounce Rates**:\n",
    "   - `page_4` has a high bounce rate (0.8). Consider revising the content or improving the user flow to keep visitors engaged.\n",
    "\n",
    "2. **User Feedback**:\n",
    "   - Several users found `page_3` \"boring,\" while `page_1` received positive feedback: \"Great content.\"\n",
    "\n",
    "Please review the content on the mentioned pages and optimize accordingly.\n",
    "\"\"\"\n",
    "print(feedback_message)\n"
   ]
  },
  {
   "cell_type": "code",
   "execution_count": 4,
   "metadata": {},
   "outputs": [
    {
     "name": "stdout",
     "output_type": "stream",
     "text": [
      "T-statistic: 4.700207870189201, P-value: 0.0015410470328358023\n"
     ]
    }
   ],
   "source": [
    "import pandas as pd\n",
    "import scipy.stats as stats\n",
    "\n",
    "# Example Data\n",
    "data = {\n",
    "    'variant': ['A', 'A', 'B', 'B', 'A', 'B', 'A', 'B', 'A', 'B'],\n",
    "    'time_spent': [120, 130, 110, 95, 140, 80, 125, 100, 135, 110],\n",
    "    'conversions': [1, 1, 0, 1, 1, 0, 1, 0, 1, 1],\n",
    "}\n",
    "\n",
    "df = pd.DataFrame(data)\n",
    "\n",
    "# Compare Time Spent (A vs B)\n",
    "group_a = df[df['variant'] == 'A']['time_spent']\n",
    "group_b = df[df['variant'] == 'B']['time_spent']\n",
    "\n",
    "# Perform a t-test\n",
    "t_stat, p_val = stats.ttest_ind(group_a, group_b)\n",
    "print(f\"T-statistic: {t_stat}, P-value: {p_val}\")\n",
    "\n",
    "# If p-value is below 0.05, it suggests a significant difference in time spent between variants.\n"
   ]
  },
  {
   "cell_type": "code",
   "execution_count": 5,
   "metadata": {},
   "outputs": [
    {
     "name": "stdout",
     "output_type": "stream",
     "text": [
      "   user_id  time_spent  clicks  pages_viewed  segment\n",
      "0        1         120       5             4        0\n",
      "1        2          50       2             2        0\n",
      "2        3          70       3             3        0\n",
      "3        4         300      12            10        1\n",
      "4        5          60       3             2        0\n",
      "5        6          10       1             1        0\n"
     ]
    }
   ],
   "source": [
    "from sklearn.cluster import KMeans\n",
    "import pandas as pd\n",
    "\n",
    "# Example user behavior data (time spent, clicks, pages viewed)\n",
    "data = {\n",
    "    'user_id': [1, 2, 3, 4, 5, 6],\n",
    "    'time_spent': [120, 50, 70, 300, 60, 10],\n",
    "    'clicks': [5, 2, 3, 12, 3, 1],\n",
    "    'pages_viewed': [4, 2, 3, 10, 2, 1],\n",
    "}\n",
    "\n",
    "df = pd.DataFrame(data)\n",
    "\n",
    "# K-means clustering to segment users\n",
    "kmeans = KMeans(n_clusters=2)  # Two segments: High-engagement, Low-engagement\n",
    "df['segment'] = kmeans.fit_predict(df[['time_spent', 'clicks', 'pages_viewed']])\n",
    "\n",
    "print(df)\n"
   ]
  },
  {
   "cell_type": "code",
   "execution_count": 8,
   "metadata": {},
   "outputs": [
    {
     "ename": "ValueError",
     "evalue": "Shape of passed values is (4, 2), indices imply (3, 2)",
     "output_type": "error",
     "traceback": [
      "\u001b[1;31m---------------------------------------------------------------------------\u001b[0m",
      "\u001b[1;31mValueError\u001b[0m                                Traceback (most recent call last)",
      "Cell \u001b[1;32mIn[8], line 24\u001b[0m\n\u001b[0;32m     21\u001b[0m user_1 \u001b[38;5;241m=\u001b[39m user_features[\u001b[38;5;241m0\u001b[39m]\n\u001b[0;32m     23\u001b[0m \u001b[38;5;66;03m# Fix the column assignment based on the correct number of content items\u001b[39;00m\n\u001b[1;32m---> 24\u001b[0m recommended_content \u001b[38;5;241m=\u001b[39m \u001b[43mpd\u001b[49m\u001b[38;5;241;43m.\u001b[39;49m\u001b[43mDataFrame\u001b[49m\u001b[43m(\u001b[49m\u001b[43mcontent_features\u001b[49m\u001b[38;5;241;43m.\u001b[39;49m\u001b[43mT\u001b[49m\u001b[43m,\u001b[49m\u001b[43m \u001b[49m\u001b[43mcolumns\u001b[49m\u001b[38;5;241;43m=\u001b[39;49m\u001b[43m[\u001b[49m\u001b[38;5;124;43mf\u001b[39;49m\u001b[38;5;124;43m'\u001b[39;49m\u001b[38;5;124;43mcomponent_\u001b[39;49m\u001b[38;5;132;43;01m{\u001b[39;49;00m\u001b[43mi\u001b[49m\u001b[38;5;241;43m+\u001b[39;49m\u001b[38;5;241;43m1\u001b[39;49m\u001b[38;5;132;43;01m}\u001b[39;49;00m\u001b[38;5;124;43m'\u001b[39;49m\u001b[43m \u001b[49m\u001b[38;5;28;43;01mfor\u001b[39;49;00m\u001b[43m \u001b[49m\u001b[43mi\u001b[49m\u001b[43m \u001b[49m\u001b[38;5;129;43;01min\u001b[39;49;00m\u001b[43m \u001b[49m\u001b[38;5;28;43mrange\u001b[39;49m\u001b[43m(\u001b[49m\u001b[43mcontent_features\u001b[49m\u001b[38;5;241;43m.\u001b[39;49m\u001b[43mshape\u001b[49m\u001b[43m[\u001b[49m\u001b[38;5;241;43m0\u001b[39;49m\u001b[43m]\u001b[49m\u001b[43m)\u001b[49m\u001b[43m]\u001b[49m\u001b[43m,\u001b[49m\u001b[43m \u001b[49m\u001b[43mindex\u001b[49m\u001b[38;5;241;43m=\u001b[39;49m\u001b[43mdf\u001b[49m\u001b[38;5;241;43m.\u001b[39;49m\u001b[43mcolumns\u001b[49m\u001b[43m[\u001b[49m\u001b[38;5;241;43m1\u001b[39;49m\u001b[43m:\u001b[49m\u001b[43m]\u001b[49m\u001b[43m)\u001b[49m\n\u001b[0;32m     26\u001b[0m \u001b[38;5;66;03m# Calculate content scores for the user\u001b[39;00m\n\u001b[0;32m     27\u001b[0m content_scores \u001b[38;5;241m=\u001b[39m recommended_content\u001b[38;5;241m.\u001b[39mdot(user_1)\n",
      "File \u001b[1;32m~\\AppData\\Local\\Packages\\PythonSoftwareFoundation.Python.3.11_qbz5n2kfra8p0\\LocalCache\\local-packages\\Python311\\site-packages\\pandas\\core\\frame.py:827\u001b[0m, in \u001b[0;36mDataFrame.__init__\u001b[1;34m(self, data, index, columns, dtype, copy)\u001b[0m\n\u001b[0;32m    816\u001b[0m         mgr \u001b[38;5;241m=\u001b[39m dict_to_mgr(\n\u001b[0;32m    817\u001b[0m             \u001b[38;5;66;03m# error: Item \"ndarray\" of \"Union[ndarray, Series, Index]\" has no\u001b[39;00m\n\u001b[0;32m    818\u001b[0m             \u001b[38;5;66;03m# attribute \"name\"\u001b[39;00m\n\u001b[1;32m   (...)\u001b[0m\n\u001b[0;32m    824\u001b[0m             copy\u001b[38;5;241m=\u001b[39m_copy,\n\u001b[0;32m    825\u001b[0m         )\n\u001b[0;32m    826\u001b[0m     \u001b[38;5;28;01melse\u001b[39;00m:\n\u001b[1;32m--> 827\u001b[0m         mgr \u001b[38;5;241m=\u001b[39m \u001b[43mndarray_to_mgr\u001b[49m\u001b[43m(\u001b[49m\n\u001b[0;32m    828\u001b[0m \u001b[43m            \u001b[49m\u001b[43mdata\u001b[49m\u001b[43m,\u001b[49m\n\u001b[0;32m    829\u001b[0m \u001b[43m            \u001b[49m\u001b[43mindex\u001b[49m\u001b[43m,\u001b[49m\n\u001b[0;32m    830\u001b[0m \u001b[43m            \u001b[49m\u001b[43mcolumns\u001b[49m\u001b[43m,\u001b[49m\n\u001b[0;32m    831\u001b[0m \u001b[43m            \u001b[49m\u001b[43mdtype\u001b[49m\u001b[38;5;241;43m=\u001b[39;49m\u001b[43mdtype\u001b[49m\u001b[43m,\u001b[49m\n\u001b[0;32m    832\u001b[0m \u001b[43m            \u001b[49m\u001b[43mcopy\u001b[49m\u001b[38;5;241;43m=\u001b[39;49m\u001b[43mcopy\u001b[49m\u001b[43m,\u001b[49m\n\u001b[0;32m    833\u001b[0m \u001b[43m            \u001b[49m\u001b[43mtyp\u001b[49m\u001b[38;5;241;43m=\u001b[39;49m\u001b[43mmanager\u001b[49m\u001b[43m,\u001b[49m\n\u001b[0;32m    834\u001b[0m \u001b[43m        \u001b[49m\u001b[43m)\u001b[49m\n\u001b[0;32m    836\u001b[0m \u001b[38;5;66;03m# For data is list-like, or Iterable (will consume into list)\u001b[39;00m\n\u001b[0;32m    837\u001b[0m \u001b[38;5;28;01melif\u001b[39;00m is_list_like(data):\n",
      "File \u001b[1;32m~\\AppData\\Local\\Packages\\PythonSoftwareFoundation.Python.3.11_qbz5n2kfra8p0\\LocalCache\\local-packages\\Python311\\site-packages\\pandas\\core\\internals\\construction.py:336\u001b[0m, in \u001b[0;36mndarray_to_mgr\u001b[1;34m(values, index, columns, dtype, copy, typ)\u001b[0m\n\u001b[0;32m    331\u001b[0m \u001b[38;5;66;03m# _prep_ndarraylike ensures that values.ndim == 2 at this point\u001b[39;00m\n\u001b[0;32m    332\u001b[0m index, columns \u001b[38;5;241m=\u001b[39m _get_axes(\n\u001b[0;32m    333\u001b[0m     values\u001b[38;5;241m.\u001b[39mshape[\u001b[38;5;241m0\u001b[39m], values\u001b[38;5;241m.\u001b[39mshape[\u001b[38;5;241m1\u001b[39m], index\u001b[38;5;241m=\u001b[39mindex, columns\u001b[38;5;241m=\u001b[39mcolumns\n\u001b[0;32m    334\u001b[0m )\n\u001b[1;32m--> 336\u001b[0m \u001b[43m_check_values_indices_shape_match\u001b[49m\u001b[43m(\u001b[49m\u001b[43mvalues\u001b[49m\u001b[43m,\u001b[49m\u001b[43m \u001b[49m\u001b[43mindex\u001b[49m\u001b[43m,\u001b[49m\u001b[43m \u001b[49m\u001b[43mcolumns\u001b[49m\u001b[43m)\u001b[49m\n\u001b[0;32m    338\u001b[0m \u001b[38;5;28;01mif\u001b[39;00m typ \u001b[38;5;241m==\u001b[39m \u001b[38;5;124m\"\u001b[39m\u001b[38;5;124marray\u001b[39m\u001b[38;5;124m\"\u001b[39m:\n\u001b[0;32m    339\u001b[0m     \u001b[38;5;28;01mif\u001b[39;00m \u001b[38;5;28missubclass\u001b[39m(values\u001b[38;5;241m.\u001b[39mdtype\u001b[38;5;241m.\u001b[39mtype, \u001b[38;5;28mstr\u001b[39m):\n",
      "File \u001b[1;32m~\\AppData\\Local\\Packages\\PythonSoftwareFoundation.Python.3.11_qbz5n2kfra8p0\\LocalCache\\local-packages\\Python311\\site-packages\\pandas\\core\\internals\\construction.py:420\u001b[0m, in \u001b[0;36m_check_values_indices_shape_match\u001b[1;34m(values, index, columns)\u001b[0m\n\u001b[0;32m    418\u001b[0m passed \u001b[38;5;241m=\u001b[39m values\u001b[38;5;241m.\u001b[39mshape\n\u001b[0;32m    419\u001b[0m implied \u001b[38;5;241m=\u001b[39m (\u001b[38;5;28mlen\u001b[39m(index), \u001b[38;5;28mlen\u001b[39m(columns))\n\u001b[1;32m--> 420\u001b[0m \u001b[38;5;28;01mraise\u001b[39;00m \u001b[38;5;167;01mValueError\u001b[39;00m(\u001b[38;5;124mf\u001b[39m\u001b[38;5;124m\"\u001b[39m\u001b[38;5;124mShape of passed values is \u001b[39m\u001b[38;5;132;01m{\u001b[39;00mpassed\u001b[38;5;132;01m}\u001b[39;00m\u001b[38;5;124m, indices imply \u001b[39m\u001b[38;5;132;01m{\u001b[39;00mimplied\u001b[38;5;132;01m}\u001b[39;00m\u001b[38;5;124m\"\u001b[39m)\n",
      "\u001b[1;31mValueError\u001b[0m: Shape of passed values is (4, 2), indices imply (3, 2)"
     ]
    }
   ],
   "source": [
    "from sklearn.decomposition import NMF\n",
    "import pandas as pd\n",
    "\n",
    "# Example user-content interaction matrix\n",
    "data = {\n",
    "    'user_id': [1, 2, 3, 4, 5],\n",
    "    'content_1': [5, 4, 0, 1, 2],\n",
    "    'content_2': [1, 0, 3, 4, 5],\n",
    "    'content_3': [2, 3, 4, 5, 0],\n",
    "    'content_4': [0, 2, 5, 1, 4]\n",
    "}\n",
    "\n",
    "df = pd.DataFrame(data).set_index('user_id')\n",
    "\n",
    "# Use NMF for matrix factorization (collaborative filtering)\n",
    "nmf = NMF(n_components=2, init='random', random_state=42)\n",
    "user_features = nmf.fit_transform(df)\n",
    "content_features = nmf.components_\n",
    "\n",
    "# Example: Recommend content to user 1 based on their interactions\n",
    "user_1 = user_features[0]\n",
    "\n",
    "# Fix the column assignment based on the correct number of content items\n",
    "recommended_content = pd.DataFrame(content_features.T, columns=[f'component_{i+1}' for i in range(content_features.shape[0])], index=df.columns[1:])\n",
    "\n",
    "# Calculate content scores for the user\n",
    "content_scores = recommended_content.dot(user_1)\n",
    "\n",
    "# Get top 3 recommended content pieces for user 1\n",
    "top_recommendations = content_scores.sort_values(ascending=False).head(3)\n",
    "print(top_recommendations)\n"
   ]
  },
  {
   "cell_type": "code",
   "execution_count": 7,
   "metadata": {},
   "outputs": [
    {
     "name": "stdout",
     "output_type": "stream",
     "text": [
      "Top recommended content for 'Introduction to Data Science':\n",
      "Introduction to Data Science\n",
      "Machine Learning Basics\n",
      "Web Development with JavaScript\n"
     ]
    }
   ],
   "source": [
    "from sklearn.feature_extraction.text import TfidfVectorizer\n",
    "\n",
    "# Example content descriptions\n",
    "content = [\n",
    "    \"Introduction to Data Science\",\n",
    "    \"Advanced Python Programming\",\n",
    "    \"Web Development with JavaScript\",\n",
    "    \"Machine Learning Basics\"\n",
    "]\n",
    "\n",
    "# Convert content into TF-IDF features\n",
    "vectorizer = TfidfVectorizer(stop_words='english')\n",
    "tfidf_matrix = vectorizer.fit_transform(content)\n",
    "\n",
    "# Calculate cosine similarity between content items\n",
    "from sklearn.metrics.pairwise import cosine_similarity\n",
    "cos_sim = cosine_similarity(tfidf_matrix, tfidf_matrix)\n",
    "\n",
    "# Get recommendations for the first content item\n",
    "recommendations = cos_sim[0].argsort()[-3:][::-1]\n",
    "print(\"Top recommended content for 'Introduction to Data Science':\")\n",
    "for idx in recommendations:\n",
    "    print(content[idx])\n"
   ]
  }
 ],
 "metadata": {
  "kernelspec": {
   "display_name": "Python 3",
   "language": "python",
   "name": "python3"
  },
  "language_info": {
   "codemirror_mode": {
    "name": "ipython",
    "version": 3
   },
   "file_extension": ".py",
   "mimetype": "text/x-python",
   "name": "python",
   "nbconvert_exporter": "python",
   "pygments_lexer": "ipython3",
   "version": "3.11.9"
  }
 },
 "nbformat": 4,
 "nbformat_minor": 2
}
